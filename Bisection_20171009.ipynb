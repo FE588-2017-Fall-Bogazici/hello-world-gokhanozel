{
 "cells": [
  {
   "cell_type": "code",
   "execution_count": 1,
   "metadata": {},
   "outputs": [
    {
     "name": "stdout",
     "output_type": "stream",
     "text": [
      "The answer is 1.4142\n"
     ]
    }
   ],
   "source": [
    "left=0\n",
    "right=2\n",
    "for i in range(100):\n",
    "    mid=(right+left)/2\n",
    "    f_mid=mid**2-2\n",
    "    if f_mid<=0:\n",
    "        sign_of_f_mid=-1\n",
    "    else:\n",
    "        sign_of_f_mid=1\n",
    "    f_left=left**2-2\n",
    "    if f_left<=0:\n",
    "        sign_of_f_left=-1\n",
    "    else:\n",
    "        sign_of_f_left=1\n",
    "    if sign_of_f_mid==sign_of_f_left:\n",
    "        left=mid\n",
    "    else:\n",
    "        right=mid\n",
    "    if right-left<0.00000001:\n",
    "        break;\n",
    "print(\"The answer is\", round(mid,4))"
   ]
  }
 ],
 "metadata": {
  "kernelspec": {
   "display_name": "Python 3",
   "language": "python",
   "name": "python3"
  },
  "language_info": {
   "codemirror_mode": {
    "name": "ipython",
    "version": 3
   },
   "file_extension": ".py",
   "mimetype": "text/x-python",
   "name": "python",
   "nbconvert_exporter": "python",
   "pygments_lexer": "ipython3",
   "version": "3.6.1"
  }
 },
 "nbformat": 4,
 "nbformat_minor": 2
}
